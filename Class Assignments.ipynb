{
 "cells": [
  {
   "cell_type": "code",
   "execution_count": null,
   "metadata": {},
   "outputs": [],
   "source": [
    "#1.Create a class and function, and list out the items in the list"
   ]
  },
  {
   "cell_type": "code",
   "execution_count": 13,
   "metadata": {},
   "outputs": [],
   "source": [
    "lists=[\"Machine Learning\",\"Neural Networks\",\"Vision\",\"Robotics\",\"Speech Processing\",\"Natural Language Processing\"]"
   ]
  },
  {
   "cell_type": "code",
   "execution_count": 14,
   "metadata": {},
   "outputs": [],
   "source": [
    "class SubfieldsinAI():\n",
    "    def Subfields():\n",
    "         print(\"Subfields in AI are:\")\n",
    "         for temp in lists:\n",
    "            print(temp)\n",
    "         return temp"
   ]
  },
  {
   "cell_type": "code",
   "execution_count": 15,
   "metadata": {},
   "outputs": [
    {
     "name": "stdout",
     "output_type": "stream",
     "text": [
      "Subfields in AI are:\n",
      "Machine Learning\n",
      "Neural Networks\n",
      "Vision\n",
      "Robotics\n",
      "Speech Processing\n",
      "Natural Language Processing\n"
     ]
    },
    {
     "data": {
      "text/plain": [
       "'Natural Language Processing'"
      ]
     },
     "execution_count": 15,
     "metadata": {},
     "output_type": "execute_result"
    }
   ],
   "source": [
    "SubfieldsinAI.Subfields()"
   ]
  },
  {
   "cell_type": "code",
   "execution_count": null,
   "metadata": {},
   "outputs": [],
   "source": [
    "# 2.Create a function that checks whether the given number is Odd or Even"
   ]
  },
  {
   "cell_type": "code",
   "execution_count": 16,
   "metadata": {},
   "outputs": [],
   "source": [
    "class OddEven():\n",
    "    def OddEven():\n",
    "        num=int(input(\"Enter the Number:\"))\n",
    "        if(num%2==0):\n",
    "            print(num,\"is Even Number\")\n",
    "            message=\"EVEN NUMBER\"\n",
    "        else:\n",
    "            print(num,\"is Odd Number\")\n",
    "            message=\"ODD NUMBER\"\n",
    "            return message"
   ]
  },
  {
   "cell_type": "code",
   "execution_count": 17,
   "metadata": {},
   "outputs": [
    {
     "name": "stdout",
     "output_type": "stream",
     "text": [
      "Enter the Number:36\n",
      "36 is Even Number\n"
     ]
    }
   ],
   "source": [
    "OddEven.OddEven()"
   ]
  },
  {
   "cell_type": "code",
   "execution_count": null,
   "metadata": {},
   "outputs": [],
   "source": [
    "# 3.Create a function that tells elegibility of marriage for male and female according to their age limit \n",
    "like 21 for male and 18 for female"
   ]
  },
  {
   "cell_type": "code",
   "execution_count": 30,
   "metadata": {},
   "outputs": [],
   "source": [
    "class EligibleForMarriage():    \n",
    "    def Eligible():\n",
    "        Gender=input(\"Your Gender:\")\n",
    "        Age=int(input(\"Your Age:\"))\n",
    "        if(Gender==\"Male\" and Age<=18):\n",
    "            print(\"NOT EELIGIBLE\")\n",
    "        else:\n",
    "            print(\"ELIGIBLE\")\n",
    "            return "
   ]
  },
  {
   "cell_type": "code",
   "execution_count": 31,
   "metadata": {},
   "outputs": [
    {
     "name": "stdout",
     "output_type": "stream",
     "text": [
      "Your Gender:Male\n",
      "Your Age:45\n",
      "ELIGIBLE\n"
     ]
    }
   ],
   "source": [
    "\n",
    "EligibleForMarriage.Eligible()"
   ]
  },
  {
   "cell_type": "code",
   "execution_count": null,
   "metadata": {},
   "outputs": [],
   "source": [
    "# 4.calculate the percentage of your 10th mark"
   ]
  },
  {
   "cell_type": "code",
   "execution_count": 22,
   "metadata": {},
   "outputs": [],
   "source": [
    "class FindPercent():\n",
    "    def Percentage():\n",
    "        Sub1=int(input(\"Subject1=\"))\n",
    "        Sub2=int(input(\"Subject2=\"))\n",
    "        Sub3=int(input(\"Subject3=\"))\n",
    "        Sub4=int(input(\"Subject4=\"))\n",
    "        Sub5=int(input(\"Subject5=\"))\n",
    "        Total=Sub1+Sub2+Sub3+Sub4+Sub5\n",
    "        print(\"Total:\",Total)\n",
    "        Percentage=Total/5    \n",
    "        print(\"Percentage:\",Percentage)\n",
    "        return Total,Percentage"
   ]
  },
  {
   "cell_type": "code",
   "execution_count": 23,
   "metadata": {},
   "outputs": [
    {
     "name": "stdout",
     "output_type": "stream",
     "text": [
      "Subject1=34\n",
      "Subject2=45\n",
      "Subject3=34\n",
      "Subject4=56\n",
      "Subject5=65\n",
      "Total: 234\n",
      "Percentage: 46.8\n"
     ]
    }
   ],
   "source": [
    "total,percentage=FindPercent.Percentage()"
   ]
  },
  {
   "cell_type": "code",
   "execution_count": null,
   "metadata": {},
   "outputs": [],
   "source": [
    "# 5.print area and perimeter of triangle using class and functions"
   ]
  },
  {
   "cell_type": "code",
   "execution_count": 24,
   "metadata": {},
   "outputs": [],
   "source": [
    "class Triangle():\n",
    "    def triangle():\n",
    "        Height=float(input(\"Hieght:\"))\n",
    "        Breadth=float(input(\"Breadth:\"))\n",
    "        Area=Height*Breadth/2\n",
    "        print(\"Area of Triangle:\",Area)\n",
    "        Height1=float(input(\"Hieght1:\"))\n",
    "        Height2=float(input(\"Hieght2:\"))\n",
    "        Breadth2=float(input(\"Breadth2:\"))\n",
    "        Perimeter=Height1+Height2+Breadth2\n",
    "        print(\"Perimeter of Triangle\",Perimeter)\n",
    "        return Area,Perimeter"
   ]
  },
  {
   "cell_type": "code",
   "execution_count": 25,
   "metadata": {},
   "outputs": [
    {
     "name": "stdout",
     "output_type": "stream",
     "text": [
      "Hieght:3\n",
      "Breadth:4\n",
      "Area of Triangle: 6.0\n",
      "Hieght1:3\n",
      "Hieght2:4\n",
      "Breadth2:45\n",
      "Perimeter of Triangle 52.0\n"
     ]
    }
   ],
   "source": [
    "area,perimeter=Triangle.triangle()"
   ]
  },
  {
   "cell_type": "code",
   "execution_count": 36,
   "metadata": {},
   "outputs": [],
   "source": [
    "lists=[\"Machine Learning\",\"Neural Networks\",\"Vision\",\"Robotics\",\"Speech Processing\",\"Natural Language Processing\"]"
   ]
  },
  {
   "cell_type": "code",
   "execution_count": 40,
   "metadata": {},
   "outputs": [],
   "source": [
    "class AllFunctions():\n",
    "    lists=[\"Machine Learning\",\"Neural Networks\",\"Vision\",\"Robotics\",\"Speech Processing\",\"Natural Language Processing\"]\n",
    "    def Subfields():\n",
    "         print(\"Subfields in AI are:\")\n",
    "         for temp in lists:\n",
    "            print(temp)\n",
    "         return \n",
    "    def OddEven():\n",
    "        num=int(input(\"Enter the Number:\"))\n",
    "        if(num%2==0):\n",
    "            print(num,\"is Even Number\")\n",
    "            message=\"EVEN NUMBER\"\n",
    "        else:\n",
    "            print(num,\"is Odd Number\")\n",
    "            message=\"ODD NUMBER\"\n",
    "            return message\n",
    "    def Eligible():\n",
    "        Gender=input(\"Your Gender:\")\n",
    "        Age=int(input(\"Your Age:\"))\n",
    "        if(Gender==\"Male\" and Age<=18):\n",
    "            print(\"NOT EELIGIBLE\")\n",
    "        else:\n",
    "            print(\"ELIGIBLE\")\n",
    "            return \n",
    "    def Percentage():\n",
    "        Sub1=int(input(\"Subject1=\"))\n",
    "        Sub2=int(input(\"Subject2=\"))\n",
    "        Sub3=int(input(\"Subject3=\"))\n",
    "        Sub4=int(input(\"Subject4=\"))\n",
    "        Sub5=int(input(\"Subject5=\"))\n",
    "        Total=Sub1+Sub2+Sub3+Sub4+Sub5\n",
    "        print(\"Total:\",Total)\n",
    "        Percentage=Total/5    \n",
    "        print(\"Percentage:\",Percentage)\n",
    "        return Total,Percentage\n",
    "    def triangle():\n",
    "        Height=float(input(\"Hieght:\"))\n",
    "        Breadth=float(input(\"Breadth:\"))\n",
    "        Area=Height*Breadth/2\n",
    "        print(\"Area of Triangle:\",Area)\n",
    "        Height1=float(input(\"Hieght1:\"))\n",
    "        Height2=float(input(\"Hieght2:\"))\n",
    "        Breadth2=float(input(\"Breadth2:\"))\n",
    "        Perimeter=Height1+Height2+Breadth2\n",
    "        print(\"Perimeter of Triangle\",Perimeter)\n",
    "        return Area,Perimeter\n",
    "    "
   ]
  },
  {
   "cell_type": "code",
   "execution_count": 39,
   "metadata": {},
   "outputs": [
    {
     "name": "stdout",
     "output_type": "stream",
     "text": [
      "Hieght:3\n",
      "Breadth:3\n",
      "Area of Triangle: 4.5\n",
      "Hieght1:3\n",
      "Hieght2:2\n",
      "Breadth2:4\n",
      "Perimeter of Triangle 9.0\n"
     ]
    },
    {
     "data": {
      "text/plain": [
       "(4.5, 9.0)"
      ]
     },
     "execution_count": 39,
     "metadata": {},
     "output_type": "execute_result"
    }
   ],
   "source": [
    "AllFunctions.triangle()"
   ]
  },
  {
   "cell_type": "code",
   "execution_count": 48,
   "metadata": {},
   "outputs": [
    {
     "name": "stdout",
     "output_type": "stream",
     "text": [
      "Subfields in AI are:\n",
      "Machine Learning\n",
      "Neural Networks\n",
      "Vision\n",
      "Robotics\n",
      "Speech Processing\n",
      "Natural Language Processing\n"
     ]
    },
    {
     "data": {
      "text/plain": [
       "'Natural Language Processing'"
      ]
     },
     "execution_count": 48,
     "metadata": {},
     "output_type": "execute_result"
    }
   ],
   "source": [
    "AllFunctions.Subfields()"
   ]
  },
  {
   "cell_type": "code",
   "execution_count": 49,
   "metadata": {},
   "outputs": [
    {
     "name": "stdout",
     "output_type": "stream",
     "text": [
      "Enter the Number:4\n",
      "4 is Even Number\n"
     ]
    }
   ],
   "source": [
    "AllFunctions.OddEven()"
   ]
  },
  {
   "cell_type": "code",
   "execution_count": 43,
   "metadata": {},
   "outputs": [
    {
     "name": "stdout",
     "output_type": "stream",
     "text": [
      "Subject1=45\n",
      "Subject2=56\n",
      "Subject3=67\n",
      "Subject4=45\n",
      "Subject5=345\n",
      "Total: 558\n",
      "Percentage: 111.6\n"
     ]
    },
    {
     "data": {
      "text/plain": [
       "(558, 111.6)"
      ]
     },
     "execution_count": 43,
     "metadata": {},
     "output_type": "execute_result"
    }
   ],
   "source": [
    "AllFunctions.Percentage()"
   ]
  },
  {
   "cell_type": "code",
   "execution_count": 44,
   "metadata": {},
   "outputs": [
    {
     "name": "stdout",
     "output_type": "stream",
     "text": [
      "Your Gender:Female\n",
      "Your Age:24\n",
      "ELIGIBLE\n"
     ]
    }
   ],
   "source": [
    "AllFunctions.Eligible()"
   ]
  },
  {
   "cell_type": "code",
   "execution_count": null,
   "metadata": {},
   "outputs": [],
   "source": []
  }
 ],
 "metadata": {
  "kernelspec": {
   "display_name": "Python 3",
   "language": "python",
   "name": "python3"
  },
  "language_info": {
   "codemirror_mode": {
    "name": "ipython",
    "version": 3
   },
   "file_extension": ".py",
   "mimetype": "text/x-python",
   "name": "python",
   "nbconvert_exporter": "python",
   "pygments_lexer": "ipython3",
   "version": "3.7.4"
  }
 },
 "nbformat": 4,
 "nbformat_minor": 2
}
